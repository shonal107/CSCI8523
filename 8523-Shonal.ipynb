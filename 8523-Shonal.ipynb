{
 "cells": [
  {
   "cell_type": "markdown",
   "metadata": {
    "id": "TOAN1iZATlTN"
   },
   "source": [
    "# Initial stuff from earlier"
   ]
  },
  {
   "cell_type": "code",
   "execution_count": 1,
   "metadata": {
    "id": "sKs-idswBdWG",
    "scrolled": true
   },
   "outputs": [
    {
     "name": "stdout",
     "output_type": "stream",
     "text": [
      "Defaulting to user installation because normal site-packages is not writeable\n",
      "Requirement already satisfied: numpy in /panfs/roc/msisoft/pytorch/1.2_python3.7/lib/python3.7/site-packages (1.21.2)\n",
      "Note: you may need to restart the kernel to use updated packages.\n",
      "Defaulting to user installation because normal site-packages is not writeable\n",
      "Requirement already satisfied: matplotlib in /panfs/roc/msisoft/pytorch/1.2_python3.7/lib/python3.7/site-packages (3.4.3)\n",
      "Requirement already satisfied: cycler>=0.10 in /panfs/roc/msisoft/pytorch/1.2_python3.7/lib/python3.7/site-packages (from matplotlib) (0.10.0)\n",
      "Requirement already satisfied: python-dateutil>=2.7 in /panfs/roc/msisoft/pytorch/1.2_python3.7/lib/python3.7/site-packages (from matplotlib) (2.8.2)\n",
      "Requirement already satisfied: pillow>=6.2.0 in /panfs/roc/msisoft/pytorch/1.2_python3.7/lib/python3.7/site-packages (from matplotlib) (8.3.2)\n",
      "Requirement already satisfied: kiwisolver>=1.0.1 in /panfs/roc/msisoft/pytorch/1.2_python3.7/lib/python3.7/site-packages (from matplotlib) (1.3.2)\n",
      "Requirement already satisfied: numpy>=1.16 in /panfs/roc/msisoft/pytorch/1.2_python3.7/lib/python3.7/site-packages (from matplotlib) (1.21.2)\n",
      "Requirement already satisfied: pyparsing>=2.2.1 in /panfs/roc/msisoft/pytorch/1.2_python3.7/lib/python3.7/site-packages (from matplotlib) (2.4.7)\n",
      "Requirement already satisfied: six in /panfs/roc/msisoft/pytorch/1.2_python3.7/lib/python3.7/site-packages (from cycler>=0.10->matplotlib) (1.16.0)\n",
      "Note: you may need to restart the kernel to use updated packages.\n",
      "Defaulting to user installation because normal site-packages is not writeable\n",
      "\u001b[31mERROR: Could not find a version that satisfies the requirement glob (from versions: none)\u001b[0m\n",
      "\u001b[31mERROR: No matching distribution found for glob\u001b[0m\n",
      "Note: you may need to restart the kernel to use updated packages.\n",
      "Defaulting to user installation because normal site-packages is not writeable\n",
      "\u001b[31mERROR: Could not find a version that satisfies the requirement os (from versions: none)\u001b[0m\n",
      "\u001b[31mERROR: No matching distribution found for os\u001b[0m\n",
      "Note: you may need to restart the kernel to use updated packages.\n"
     ]
    }
   ],
   "source": [
    "# # !nvidia-smi\n",
    "%pip install numpy\n",
    "%pip install matplotlib\n",
    "%pip install glob\n",
    "%pip install os "
   ]
  },
  {
   "cell_type": "code",
   "execution_count": 2,
   "metadata": {
    "id": "_d_VCjDnBgSy"
   },
   "outputs": [],
   "source": [
    "import numpy as np\n",
    "from matplotlib import pyplot as plt\n",
    "import matplotlib\n",
    "import glob\n",
    "import os"
   ]
  },
  {
   "cell_type": "code",
   "execution_count": 3,
   "metadata": {},
   "outputs": [
    {
     "name": "stdout",
     "output_type": "stream",
     "text": [
      "\u001b[0m\u001b[01;32m8523.ipynb\u001b[0m*                     \u001b[01;32mID_158781_frac_map.npy.png\u001b[0m*\n",
      "\u001b[01;32mID_005955_frac_map.npy\u001b[0m*         \u001b[01;32mID_174387_time_series.npy\u001b[0m*\n",
      "\u001b[01;32mID_005955_frac_map.npy.png\u001b[0m*     \u001b[01;32mID_174387_time_series.npy.png\u001b[0m*\n",
      "\u001b[01;32mID_020581_frac_map.npy\u001b[0m*         \u001b[01;32mID_187005_time_series.npy\u001b[0m*\n",
      "\u001b[01;32mID_020581_frac_map.npy.png\u001b[0m*     \u001b[01;32mID_187005_time_series.npy.png\u001b[0m*\n",
      "\u001b[01;32mID_126155_time_series.npy\u001b[0m*      \u001b[01;32mREADME.md\u001b[0m*\n",
      "\u001b[01;32mID_126155_time_series.npy.png\u001b[0m*  \u001b[01;32mvisualize.py\u001b[0m*\n",
      "\u001b[01;32mID_158781_frac_map.npy\u001b[0m*\n",
      "ls: cannot access data: No such file or directory\n",
      "ls: cannot access data/frac_map: No such file or directory\n"
     ]
    }
   ],
   "source": [
    "%ls\n",
    "%ls data\n",
    "%ls data/frac_map | head -10"
   ]
  },
  {
   "cell_type": "code",
   "execution_count": 5,
   "metadata": {},
   "outputs": [
    {
     "name": "stdout",
     "output_type": "stream",
     "text": [
      "['ID_742140_frac_map.npy', 'ID_741138_frac_map.npy', 'ID_742100_frac_map.npy', 'ID_729945_frac_map.npy', 'ID_741623_frac_map.npy']\n",
      "26754\n"
     ]
    }
   ],
   "source": [
    "fracmaps_dir = '../data/frac_map'\n",
    "frac_map = os.listdir(fracmaps_dir)\n",
    "timeseries_dir = '../data/time_series'\n",
    "timeseries = os.listdir(timeseries_dir)\n",
    "total_maps = len(frac_map)\n",
    "print(frac_map[0:5])\n",
    "print(total_maps)"
   ]
  },
  {
   "cell_type": "code",
   "execution_count": 28,
   "metadata": {
    "colab": {
     "base_uri": "https://localhost:8080/"
    },
    "id": "p09pZjM4dLQ8",
    "outputId": "f17e7223-618c-43b4-96b0-a590aaaf6074"
   },
   "outputs": [
    {
     "data": {
      "image/png": "[encoded data removed]",
      "text/plain": [
       "<Figure size 3000x1000 with 6 Axes>"
      ]
     },
     "metadata": {},
     "output_type": "display_data"
    }
   ],
   "source": [
    "bracket = 4000\n",
    "fig, axes = plt.subplots(1, int(total_maps/bracket), figsize=(30, 10))\n",
    "ax = axes.ravel()\n",
    "for i in range(0, int(total_maps/bracket)):\n",
    "    each = frac_map[i]\n",
    "    image = os.path.join(fracmaps_dir,each)\n",
    "    img_array = np.load(image, allow_pickle=True)\n",
    "    img_array = np.squeeze(img_array, axis = 0)\n",
    "    ax[i].imshow(img_array)\n",
    "\n",
    "for a in ax:\n",
    "        a.set_axis_off()\n",
    "plt.tight_layout()\n",
    "plt.show()"
   ]
  },
  {
   "cell_type": "code",
   "execution_count": null,
   "metadata": {
    "colab": {
     "base_uri": "https://localhost:8080/",
     "height": 321
    },
    "id": "R9VCZO4icnGS",
    "outputId": "97958c5b-1bbe-4e54-c758-37509ac57b1a"
   },
   "outputs": [
    {
     "name": "stdout",
     "output_type": "stream",
     "text": [
      "(442, 1)\n",
      "ID_409869_time_series.npy\n",
      "2\n"
     ]
    },
    {
     "data": {
      "image/png": "[encoded data removed]",
      "text/plain": [
       "<Figure size 432x288 with 1 Axes>"
      ]
     },
     "metadata": {
      "needs_background": "light"
     },
     "output_type": "display_data"
    }
   ],
   "source": [
    "filename = \"ID_409869_time_series.npy\"\n",
    "img_array = np.load(filename, allow_pickle=True)\n",
    "print(img_array.shape)\n",
    "#img_array = np.squeeze(img_array, axis = 2)\n",
    "plt.imshow(img_array, cmap=\"gray\")\n",
    "# img_name = filename+\".png\"\n",
    "# matplotlib.image.imsave(img_name, img_array)\n",
    "print(filename)\n",
    "\n",
    "count0 = 0\n",
    "for i in range(len(img_array)):\n",
    "  if img_array[i] == 0:\n",
    "    count0+=1\n",
    "\n",
    "print(count0)"
   ]
  },
  {
   "cell_type": "code",
   "execution_count": null,
   "metadata": {
    "colab": {
     "base_uri": "https://localhost:8080/",
     "height": 303
    },
    "id": "Qp_k2UGwgccf",
    "outputId": "431f4943-d05c-4e80-f460-1f8389c58625"
   },
   "outputs": [
    {
     "name": "stdout",
     "output_type": "stream",
     "text": [
      "img array (1, 64, 64)\n",
      "ID_409869_frac_map.npy\n"
     ]
    },
    {
     "data": {
      "image/png": "[encoded data removed]",
      "text/plain": [
       "<Figure size 432x288 with 1 Axes>"
      ]
     },
     "metadata": {
      "needs_background": "light"
     },
     "output_type": "display_data"
    }
   ],
   "source": [
    "filename = \"ID_409869_frac_map.npy\"\n",
    "img_array = np.load(filename, allow_pickle=True)\n",
    "print('img array', img_array.shape)\n",
    "img_array = np.squeeze(img_array, axis = 0)\n",
    "plt.imshow(img_array)\n",
    "img_name = filename+\".png\"\n",
    "# matplotlib.image.imsave(img_name, img_array)\n",
    "print(filename)"
   ]
  },
  {
   "cell_type": "code",
   "execution_count": null,
   "metadata": {
    "colab": {
     "base_uri": "https://localhost:8080/"
    },
    "id": "2fJvvX6GnCjB",
    "outputId": "51d8aa0f-616a-45e4-f350-f247174f2700"
   },
   "outputs": [
    {
     "name": "stdout",
     "output_type": "stream",
     "text": [
      "(1000000,)\n",
      "[0 0 0 ... 0 0 0]\n"
     ]
    }
   ],
   "source": [
    "filename = \"all_IDs_labels.npy\"\n",
    "img_array = np.load(filename, allow_pickle=True)\n",
    "print(img_array.shape)\n",
    "print(img_array)\n",
    "#img_array = np.squeeze(img_array, axis = 2)\n",
    "# plt.imshow(img_array, cmap=\"gray\")/\\\n",
    "# img_name = filename+\".png\"\n",
    "# matplotlib.image.imsave(img_name, img_array)\n",
    "# print(filename)"
   ]
  },
  {
   "cell_type": "markdown",
   "metadata": {
    "id": "CNhO0Ei5n6jH"
   },
   "source": [
    "0 - Unknown\n",
    "1 - Farm\n",
    "2 - Reservoir\n",
    "3 - River\n",
    "4 - Stable Lakes\n",
    "5 - Seasonal Lakes\n",
    "\n",
    "\n",
    "array[no] = C → ID no is class C\n"
   ]
  },
  {
   "cell_type": "code",
   "execution_count": null,
   "metadata": {
    "colab": {
     "base_uri": "https://localhost:8080/"
    },
    "id": "Osv-uRVmn8oV",
    "outputId": "71f0ddad-9ec2-4a99-d318-4804bd2875ae"
   },
   "outputs": [
    {
     "name": "stdout",
     "output_type": "stream",
     "text": [
      "(979799,)\n",
      "(427,)\n",
      "(18707,)\n",
      "(317,)\n",
      "(143,)\n",
      "(288,)\n"
     ]
    }
   ],
   "source": [
    "print(np.where(img_array==0)[0].shape)\n",
    "print(np.where(img_array==1)[0].shape)\n",
    "print(np.where(img_array==2)[0].shape)\n",
    "print(np.where(img_array==3)[0].shape)\n",
    "print(np.where(img_array==4)[0].shape)\n",
    "print(np.where(img_array==5)[0].shape)"
   ]
  },
  {
   "cell_type": "code",
   "execution_count": null,
   "metadata": {
    "colab": {
     "base_uri": "https://localhost:8080/",
     "height": 677
    },
    "id": "n1cZU_xtrNb2",
    "outputId": "09c737c0-827d-4fbb-c6f5-9259e3d426b1"
   },
   "outputs": [
    {
     "name": "stdout",
     "output_type": "stream",
     "text": [
      "img array (1, 64, 64)\n",
      "ID_409869_frac_map.npy\n",
      "26754\n"
     ]
    },
    {
     "ename": "FileNotFoundError",
     "evalue": "ignored",
     "output_type": "error",
     "traceback": [
      "\u001b[0;31m---------------------------------------------------------------------------\u001b[0m",
      "\u001b[0;31mFileNotFoundError\u001b[0m                         Traceback (most recent call last)",
      "\u001b[0;32m<ipython-input-9-1399ec99cc97>\u001b[0m in \u001b[0;36m<module>\u001b[0;34m\u001b[0m\n\u001b[1;32m     22\u001b[0m   \u001b[0;32mif\u001b[0m \u001b[0mcount\u001b[0m \u001b[0;34m<\u001b[0m \u001b[0;36m21\u001b[0m\u001b[0;34m:\u001b[0m\u001b[0;34m\u001b[0m\u001b[0;34m\u001b[0m\u001b[0m\n\u001b[1;32m     23\u001b[0m     \u001b[0mfilename\u001b[0m \u001b[0;34m=\u001b[0m \u001b[0;34m\"frac_map/\"\u001b[0m\u001b[0;34m+\u001b[0m\u001b[0mi\u001b[0m\u001b[0;34m\u001b[0m\u001b[0;34m\u001b[0m\u001b[0m\n\u001b[0;32m---> 24\u001b[0;31m     \u001b[0mimg_array\u001b[0m \u001b[0;34m=\u001b[0m \u001b[0mnp\u001b[0m\u001b[0;34m.\u001b[0m\u001b[0mload\u001b[0m\u001b[0;34m(\u001b[0m\u001b[0mfilename\u001b[0m\u001b[0;34m,\u001b[0m \u001b[0mallow_pickle\u001b[0m\u001b[0;34m=\u001b[0m\u001b[0;32mTrue\u001b[0m\u001b[0;34m)\u001b[0m\u001b[0;34m\u001b[0m\u001b[0;34m\u001b[0m\u001b[0m\n\u001b[0m\u001b[1;32m     25\u001b[0m     \u001b[0;31m#print('img array', img_array.shape)\u001b[0m\u001b[0;34m\u001b[0m\u001b[0;34m\u001b[0m\u001b[0;34m\u001b[0m\u001b[0m\n\u001b[1;32m     26\u001b[0m     \u001b[0mimg_array\u001b[0m \u001b[0;34m=\u001b[0m \u001b[0mnp\u001b[0m\u001b[0;34m.\u001b[0m\u001b[0msqueeze\u001b[0m\u001b[0;34m(\u001b[0m\u001b[0mimg_array\u001b[0m\u001b[0;34m,\u001b[0m \u001b[0maxis\u001b[0m \u001b[0;34m=\u001b[0m \u001b[0;36m0\u001b[0m\u001b[0;34m)\u001b[0m\u001b[0;34m\u001b[0m\u001b[0;34m\u001b[0m\u001b[0m\n",
      "\u001b[0;32m/usr/local/lib/python3.7/dist-packages/numpy/lib/npyio.py\u001b[0m in \u001b[0;36mload\u001b[0;34m(file, mmap_mode, allow_pickle, fix_imports, encoding)\u001b[0m\n\u001b[1;32m    415\u001b[0m             \u001b[0mown_fid\u001b[0m \u001b[0;34m=\u001b[0m \u001b[0;32mFalse\u001b[0m\u001b[0;34m\u001b[0m\u001b[0;34m\u001b[0m\u001b[0m\n\u001b[1;32m    416\u001b[0m         \u001b[0;32melse\u001b[0m\u001b[0;34m:\u001b[0m\u001b[0;34m\u001b[0m\u001b[0;34m\u001b[0m\u001b[0m\n\u001b[0;32m--> 417\u001b[0;31m             \u001b[0mfid\u001b[0m \u001b[0;34m=\u001b[0m \u001b[0mstack\u001b[0m\u001b[0;34m.\u001b[0m\u001b[0menter_context\u001b[0m\u001b[0;34m(\u001b[0m\u001b[0mopen\u001b[0m\u001b[0;34m(\u001b[0m\u001b[0mos_fspath\u001b[0m\u001b[0;34m(\u001b[0m\u001b[0mfile\u001b[0m\u001b[0;34m)\u001b[0m\u001b[0;34m,\u001b[0m \u001b[0;34m\"rb\"\u001b[0m\u001b[0;34m)\u001b[0m\u001b[0;34m)\u001b[0m\u001b[0;34m\u001b[0m\u001b[0;34m\u001b[0m\u001b[0m\n\u001b[0m\u001b[1;32m    418\u001b[0m             \u001b[0mown_fid\u001b[0m \u001b[0;34m=\u001b[0m \u001b[0;32mTrue\u001b[0m\u001b[0;34m\u001b[0m\u001b[0;34m\u001b[0m\u001b[0m\n\u001b[1;32m    419\u001b[0m \u001b[0;34m\u001b[0m\u001b[0m\n",
      "\u001b[0;31mFileNotFoundError\u001b[0m: [Errno 2] No such file or directory: 'frac_map/ID_687294_frac_map.npy'"
     ]
    },
    {
     "data": {
      "image/png": "[encoded data removed]",
      "text/plain": [
       "<Figure size 432x288 with 1 Axes>"
      ]
     },
     "metadata": {
      "needs_background": "light"
     },
     "output_type": "display_data"
    }
   ],
   "source": [
    "filename = \"ID_409869_frac_map.npy\"\n",
    "img_array = np.load(filename, allow_pickle=True)\n",
    "print('img array', img_array.shape)\n",
    "img_array = np.squeeze(img_array, axis = 0)\n",
    "plt.imshow(img_array)\n",
    "img_name = filename+\".png\"\n",
    "# matplotlib.image.imsave(img_name, img_array)\n",
    "print(filename)\n",
    "\n",
    "\n",
    "import os\n",
    "frac_map_file_names = []\n",
    "folder_name = \"/content/drive/Shareddrives/CSCI8523/data/frac_map\"\n",
    "for i in os.listdir(folder_name):\n",
    "  frac_map_file_names.append(i)\n",
    "\n",
    "print(len(frac_map_file_names))\n",
    "\n",
    "count = 0\n",
    "\n",
    "for i in os.listdir(folder_name):\n",
    "  if count < 21:\n",
    "    filename = \"frac_map/\"+i\n",
    "    img_array = np.load(filename, allow_pickle=True)\n",
    "    #print('img array', img_array.shape)\n",
    "    img_array = np.squeeze(img_array, axis = 0)\n",
    "    plt.imshow(img_array)\n",
    "    img_name = filename+\".png\"\n",
    "    # matplotlib.image.imsave(img_name, img_array)\n",
    "    #print(filename)\n",
    "    count += 1\n",
    "\n"
   ]
  },
  {
   "cell_type": "code",
   "execution_count": null,
   "metadata": {
    "colab": {
     "base_uri": "https://localhost:8080/"
    },
    "id": "CFPHgru4D1-h",
    "outputId": "178c13e4-d12b-44e5-8aac-6eed6530e241"
   },
   "outputs": [
    {
     "name": "stdout",
     "output_type": "stream",
     "text": [
      "26754\n"
     ]
    }
   ],
   "source": [
    "import os\n",
    "\n",
    "folder_name = \"/content/drive/Shareddrives/CSCI8523/data/time_series\"\n",
    "\n",
    "time_series = []\n",
    "\n",
    "for i in os.listdir(folder_name):\n",
    "  time_series.append(i)\n",
    "\n",
    "print(len(time_series))"
   ]
  },
  {
   "cell_type": "code",
   "execution_count": null,
   "metadata": {
    "colab": {
     "base_uri": "https://localhost:8080/"
    },
    "id": "XFz8mmMpGE5o",
    "outputId": "cd3e4184-16f7-4fa6-a71d-0aad330a62d4"
   },
   "outputs": [
    {
     "name": "stdout",
     "output_type": "stream",
     "text": [
      "26754\n"
     ]
    }
   ],
   "source": [
    "import os\n",
    "\n",
    "folder_name = \"/content/drive/Shareddrives/CSCI8523/data/frac_map\"\n",
    "\n",
    "frac_map = []\n",
    "\n",
    "for i in os.listdir(folder_name):\n",
    "  frac_map.append(i)\n",
    "\n",
    "print(len(frac_map))"
   ]
  },
  {
   "cell_type": "markdown",
   "metadata": {
    "id": "FGhHLJFEJm4E"
   },
   "source": [
    "# Fraction map stuff"
   ]
  },
  {
   "cell_type": "code",
   "execution_count": null,
   "metadata": {
    "colab": {
     "base_uri": "https://localhost:8080/"
    },
    "id": "jWl5UCAUKjMM",
    "outputId": "0ad0ddf6-3a51-465f-e45e-dc5160dc80eb"
   },
   "outputs": [
    {
     "name": "stdout",
     "output_type": "stream",
     "text": [
      "Shape of frac_map: (64, 64)\n"
     ]
    }
   ],
   "source": [
    "testfile = \"/content/drive/Shareddrives/CSCI8523/ID_409869_frac_map.npy\"\n",
    "\n",
    "test_frac = np.load(testfile)\n",
    "\n",
    "print(\"Shape of frac_map:\", test_frac[0].shape)"
   ]
  },
  {
   "cell_type": "markdown",
   "metadata": {
    "id": "BBAJFnUsMJeN"
   },
   "source": [
    "Every fraction_map is 64x64.\n",
    "\n",
    "What are the values?"
   ]
  },
  {
   "cell_type": "code",
   "execution_count": null,
   "metadata": {
    "id": "xn7SWhuuK4If"
   },
   "outputs": [],
   "source": [
    "test_frac_arr = []\n",
    "\n",
    "for i in test_frac[0]:\n",
    "  test_frac_arr.append(i)\n",
    "\n",
    "test_frac_arr"
   ]
  },
  {
   "cell_type": "markdown",
   "metadata": {
    "id": "13N4cXw8Mgre"
   },
   "source": [
    "The values are floats between 0-1.\n",
    "\n",
    "Let's visualize:"
   ]
  },
  {
   "cell_type": "code",
   "execution_count": null,
   "metadata": {
    "colab": {
     "base_uri": "https://localhost:8080/",
     "height": 285
    },
    "id": "JmK4mqJ_Lghz",
    "outputId": "e28661b6-9933-4550-f34d-34500408f990"
   },
   "outputs": [
    {
     "data": {
      "text/plain": [
       "<matplotlib.image.AxesImage at 0x7f79ddf5d890>"
      ]
     },
     "execution_count": 61,
     "metadata": {},
     "output_type": "execute_result"
    },
    {
     "data": {
      "image/png": "[encoded data removed]",
      "text/plain": [
       "<Figure size 432x288 with 1 Axes>"
      ]
     },
     "metadata": {
      "needs_background": "light"
     },
     "output_type": "display_data"
    }
   ],
   "source": [
    "plt.imshow(test_frac[0])"
   ]
  },
  {
   "cell_type": "markdown",
   "metadata": {
    "id": "gwuVf1_sNRDk"
   },
   "source": [
    "Let's print out the coordinates of each pixel that aren't 0."
   ]
  },
  {
   "cell_type": "code",
   "execution_count": null,
   "metadata": {
    "id": "GVg2Tia1NBYp"
   },
   "outputs": [],
   "source": [
    "nonzero = []\n",
    "\n",
    "for i in range(len(test_frac[0])):\n",
    "  for j in range(len(test_frac[0][i])):\n",
    "    if test_frac[0][i][j] != 0:\n",
    "      #print(\"X:\",j,\"Y:\",i,\"Value:\",test_frac[0][i][j])\n",
    "      nonzero.append((j,i,test_frac[0][i][j]))\n",
    "\n",
    "nonzero"
   ]
  },
  {
   "cell_type": "markdown",
   "metadata": {
    "id": "BhOraQ2kODJb"
   },
   "source": [
    "How many of the pixels are non zero?"
   ]
  },
  {
   "cell_type": "code",
   "execution_count": null,
   "metadata": {
    "colab": {
     "base_uri": "https://localhost:8080/"
    },
    "id": "96DfwkCKNr3C",
    "outputId": "37d34d17-25c0-4219-9523-47b03b3017e9"
   },
   "outputs": [
    {
     "name": "stdout",
     "output_type": "stream",
     "text": [
      "48 (out of 4096) or  1.171875 %\n"
     ]
    }
   ],
   "source": [
    "print(len(nonzero),\"(out of 4096) or \",(48/4096)*100,\"%\")"
   ]
  },
  {
   "cell_type": "markdown",
   "metadata": {
    "id": "iRPjlWMwQN9y"
   },
   "source": [
    "Let's see out of these 48 pixels, which ones are the highest value."
   ]
  },
  {
   "cell_type": "code",
   "execution_count": null,
   "metadata": {
    "colab": {
     "base_uri": "https://localhost:8080/"
    },
    "id": "0oEA7QH0QSl1",
    "outputId": "ac391ce6-7b43-4f8c-8e03-9d601d3b0a71"
   },
   "outputs": [
    {
     "name": "stdout",
     "output_type": "stream",
     "text": [
      "max: 0.9954751 count: 23\n"
     ]
    }
   ],
   "source": [
    "max = 0\n",
    "count = 0\n",
    "for i in nonzero:\n",
    "  if i[2] > max:\n",
    "    count = 0\n",
    "    max = i[2]\n",
    "  if i[2] == max:\n",
    "    count += 1\n",
    "\n",
    "print(\"max:\",max,\"count:\",count)"
   ]
  },
  {
   "cell_type": "markdown",
   "metadata": {
    "id": "rmA5gWeqOfPW"
   },
   "source": [
    "Now let's see how many fraction maps we have.\n",
    "\n"
   ]
  },
  {
   "cell_type": "code",
   "execution_count": null,
   "metadata": {
    "colab": {
     "base_uri": "https://localhost:8080/"
    },
    "id": "ILeUfluxOG4q",
    "outputId": "14700b99-9be9-4fd1-f654-669d419f8a1e"
   },
   "outputs": [
    {
     "name": "stdout",
     "output_type": "stream",
     "text": [
      "26754\n"
     ]
    }
   ],
   "source": [
    "import os\n",
    "\n",
    "folder_name = \"/content/drive/Shareddrives/CSCI8523/data/frac_map\"\n",
    "\n",
    "frac_map = []\n",
    "\n",
    "for i in os.listdir(folder_name):\n",
    "  frac_map.append(i)\n",
    "\n",
    "print(len(frac_map))"
   ]
  },
  {
   "cell_type": "markdown",
   "metadata": {
    "id": "fgozhBCqRDxW"
   },
   "source": [
    "# Preprocessing frac_maps\n",
    "\n",
    "Currently, we have 26754 fraction maps. Each of these is of shape 1x64x64. Let's change that to 64x64 and aggregate them all into one array where each value is tuple in the form (name of file, 64x64 array)"
   ]
  },
  {
   "cell_type": "code",
   "execution_count": null,
   "metadata": {
    "id": "nZ9bQq63PP45"
   },
   "outputs": [],
   "source": [
    "big_arr = []\n",
    "\n",
    "for i in frac_map:\n",
    "  fm = np.load(folder_name + \"/\" + i)\n",
    "  fm = fm[0]\n",
    "  big_arr.append((i,fm))\n",
    "\n",
    "print(\"sanity_check:\",len(big_arr))"
   ]
  },
  {
   "cell_type": "code",
   "execution_count": null,
   "metadata": {
    "id": "FB3W8m-6R2v3"
   },
   "outputs": [],
   "source": []
  }
 ],
 "metadata": {
  "accelerator": "GPU",
  "colab": {
   "collapsed_sections": [],
   "machine_shape": "hm",
   "provenance": []
  },
  "gpuClass": "premium",
  "kernelspec": {
   "display_name": "MSI_Pytorch_1.2",
   "language": "python",
   "name": "python3"
  },
  "language_info": {
   "codemirror_mode": {
    "name": "ipython",
    "version": 3
   },
   "file_extension": ".py",
   "mimetype": "text/x-python",
   "name": "python",
   "nbconvert_exporter": "python",
   "pygments_lexer": "ipython3",
   "version": "3.7.11"
  }
 },
 "nbformat": 4,
 "nbformat_minor": 4
}
